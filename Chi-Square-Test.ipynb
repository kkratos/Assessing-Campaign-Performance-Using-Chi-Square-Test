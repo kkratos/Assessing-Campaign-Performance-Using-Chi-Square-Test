{
 "cells": [
  {
   "cell_type": "markdown",
   "id": "56471ef6",
   "metadata": {},
   "source": [
    "# Table of contents\n",
    "\n",
    "- [01. Project Overview](#overview-main)\n",
    "- [02. Approach](#approach-main)\n",
    "    - [Import and Understand Data](#import-data)\n",
    "    - [Establish Hypotheses and Acceptance Criteria](#hypothesis-acceptance)\n",
    "    - [Calculate Observed and Expected Frequencies](#calculation)\n",
    "    - [Results & Interpretation](#results)\n",
    "    - [Discussion & Conclusion](#discussion)\n",
    "- [03. Concept Overview](#concept-overview)"
   ]
  },
  {
   "cell_type": "markdown",
   "id": "23556646",
   "metadata": {},
   "source": [
    "# Project Overview <a name=\"overview-main\"></a>\n",
    "\n",
    "Earlier in the year, our client, a grocery retailer, ran a campaign to promote their new \"Delivery Club\" - an initiative that costs a customer 100 dollars per year for membership, but offers free grocery deliveries rather than the normal cost of 10 dollars per delivery.\n",
    "\n",
    "For the campaign promoting the club, customers were put randomly into three groups - the first group received a low quality, low cost mailer, the second group received a high quality, high cost mailer, and the third group were a control group, receiving no mailer at all.\n",
    "\n",
    "The client knows that customers who were contacted, signed up for the Delivery Club at a far higher rate than the control group, but now want to understand if there is a significant difference in signup rate between the cheap mailer and the expensive mailer.  This will allow them to make more informed decisions in the future, with the overall aim of optimising campaign ROI!\n",
    "\n"
   ]
  },
  {
   "cell_type": "markdown",
   "id": "94b5b607",
   "metadata": {},
   "source": [
    "## Import and understand data <a name=\"import-data\"></a>"
   ]
  },
  {
   "cell_type": "code",
   "execution_count": null,
   "id": "80d1a303",
   "metadata": {},
   "outputs": [],
   "source": [
    "import pandas as pd\n",
    "from scipy.stats import chi2_contingency, chi2"
   ]
  },
  {
   "cell_type": "code",
   "execution_count": 5,
   "id": "ff7b80a0",
   "metadata": {},
   "outputs": [
    {
     "data": {
      "text/html": [
       "<div>\n",
       "<style scoped>\n",
       "    .dataframe tbody tr th:only-of-type {\n",
       "        vertical-align: middle;\n",
       "    }\n",
       "\n",
       "    .dataframe tbody tr th {\n",
       "        vertical-align: top;\n",
       "    }\n",
       "\n",
       "    .dataframe thead th {\n",
       "        text-align: right;\n",
       "    }\n",
       "</style>\n",
       "<table border=\"1\" class=\"dataframe\">\n",
       "  <thead>\n",
       "    <tr style=\"text-align: right;\">\n",
       "      <th></th>\n",
       "      <th>customer_id</th>\n",
       "      <th>campaign_name</th>\n",
       "      <th>campaign_date</th>\n",
       "      <th>mailer_type</th>\n",
       "      <th>signup_flag</th>\n",
       "    </tr>\n",
       "  </thead>\n",
       "  <tbody>\n",
       "    <tr>\n",
       "      <th>0</th>\n",
       "      <td>74</td>\n",
       "      <td>delivery_club</td>\n",
       "      <td>2020-07-01</td>\n",
       "      <td>Mailer1</td>\n",
       "      <td>1</td>\n",
       "    </tr>\n",
       "    <tr>\n",
       "      <th>1</th>\n",
       "      <td>524</td>\n",
       "      <td>delivery_club</td>\n",
       "      <td>2020-07-01</td>\n",
       "      <td>Mailer1</td>\n",
       "      <td>1</td>\n",
       "    </tr>\n",
       "    <tr>\n",
       "      <th>2</th>\n",
       "      <td>607</td>\n",
       "      <td>delivery_club</td>\n",
       "      <td>2020-07-01</td>\n",
       "      <td>Mailer2</td>\n",
       "      <td>1</td>\n",
       "    </tr>\n",
       "    <tr>\n",
       "      <th>3</th>\n",
       "      <td>343</td>\n",
       "      <td>delivery_club</td>\n",
       "      <td>2020-07-01</td>\n",
       "      <td>Mailer1</td>\n",
       "      <td>0</td>\n",
       "    </tr>\n",
       "    <tr>\n",
       "      <th>4</th>\n",
       "      <td>322</td>\n",
       "      <td>delivery_club</td>\n",
       "      <td>2020-07-01</td>\n",
       "      <td>Mailer2</td>\n",
       "      <td>1</td>\n",
       "    </tr>\n",
       "    <tr>\n",
       "      <th>...</th>\n",
       "      <td>...</td>\n",
       "      <td>...</td>\n",
       "      <td>...</td>\n",
       "      <td>...</td>\n",
       "      <td>...</td>\n",
       "    </tr>\n",
       "    <tr>\n",
       "      <th>865</th>\n",
       "      <td>372</td>\n",
       "      <td>delivery_club</td>\n",
       "      <td>2020-07-01</td>\n",
       "      <td>Mailer2</td>\n",
       "      <td>1</td>\n",
       "    </tr>\n",
       "    <tr>\n",
       "      <th>866</th>\n",
       "      <td>104</td>\n",
       "      <td>delivery_club</td>\n",
       "      <td>2020-07-01</td>\n",
       "      <td>Mailer1</td>\n",
       "      <td>1</td>\n",
       "    </tr>\n",
       "    <tr>\n",
       "      <th>867</th>\n",
       "      <td>393</td>\n",
       "      <td>delivery_club</td>\n",
       "      <td>2020-07-01</td>\n",
       "      <td>Mailer2</td>\n",
       "      <td>1</td>\n",
       "    </tr>\n",
       "    <tr>\n",
       "      <th>868</th>\n",
       "      <td>373</td>\n",
       "      <td>delivery_club</td>\n",
       "      <td>2020-07-01</td>\n",
       "      <td>Control</td>\n",
       "      <td>0</td>\n",
       "    </tr>\n",
       "    <tr>\n",
       "      <th>869</th>\n",
       "      <td>712</td>\n",
       "      <td>delivery_club</td>\n",
       "      <td>2020-07-01</td>\n",
       "      <td>Control</td>\n",
       "      <td>0</td>\n",
       "    </tr>\n",
       "  </tbody>\n",
       "</table>\n",
       "<p>870 rows × 5 columns</p>\n",
       "</div>"
      ],
      "text/plain": [
       "     customer_id  campaign_name campaign_date mailer_type  signup_flag\n",
       "0             74  delivery_club    2020-07-01     Mailer1            1\n",
       "1            524  delivery_club    2020-07-01     Mailer1            1\n",
       "2            607  delivery_club    2020-07-01     Mailer2            1\n",
       "3            343  delivery_club    2020-07-01     Mailer1            0\n",
       "4            322  delivery_club    2020-07-01     Mailer2            1\n",
       "..           ...            ...           ...         ...          ...\n",
       "865          372  delivery_club    2020-07-01     Mailer2            1\n",
       "866          104  delivery_club    2020-07-01     Mailer1            1\n",
       "867          393  delivery_club    2020-07-01     Mailer2            1\n",
       "868          373  delivery_club    2020-07-01     Control            0\n",
       "869          712  delivery_club    2020-07-01     Control            0\n",
       "\n",
       "[870 rows x 5 columns]"
      ]
     },
     "execution_count": 5,
     "metadata": {},
     "output_type": "execute_result"
    }
   ],
   "source": [
    "campaign_data = pd.read_excel(\"./grocery_database.xlsx\", sheet_name = 'campaign_data')\n",
    "campaign_data"
   ]
  },
  {
   "cell_type": "code",
   "execution_count": 6,
   "id": "32a83cde",
   "metadata": {},
   "outputs": [
    {
     "data": {
      "text/plain": [
       "mailer_type\n",
       "Mailer1    375\n",
       "Mailer2    336\n",
       "Control    159\n",
       "Name: count, dtype: int64"
      ]
     },
     "execution_count": 6,
     "metadata": {},
     "output_type": "execute_result"
    }
   ],
   "source": [
    "campaign_data.mailer_type.value_counts()"
   ]
  },
  {
   "cell_type": "code",
   "execution_count": 7,
   "id": "7ebd88a9",
   "metadata": {},
   "outputs": [
    {
     "data": {
      "text/plain": [
       "array(['Mailer1', 'Mailer2', 'Control'], dtype=object)"
      ]
     },
     "execution_count": 7,
     "metadata": {},
     "output_type": "execute_result"
    }
   ],
   "source": [
    "campaign_data['mailer_type'].unique()"
   ]
  },
  {
   "cell_type": "code",
   "execution_count": 8,
   "id": "0fc88d0b",
   "metadata": {},
   "outputs": [],
   "source": [
    "# remove customers who were in the control group\n",
    "campaign_data = campaign_data[campaign_data.mailer_type != \"Control\"]"
   ]
  },
  {
   "cell_type": "code",
   "execution_count": 9,
   "id": "de639ec1",
   "metadata": {},
   "outputs": [
    {
     "data": {
      "text/plain": [
       "mailer_type\n",
       "Mailer1    375\n",
       "Mailer2    336\n",
       "Name: count, dtype: int64"
      ]
     },
     "execution_count": 9,
     "metadata": {},
     "output_type": "execute_result"
    }
   ],
   "source": [
    "campaign_data.mailer_type.value_counts()"
   ]
  },
  {
   "cell_type": "code",
   "execution_count": 10,
   "id": "c8ba4457",
   "metadata": {},
   "outputs": [
    {
     "data": {
      "text/html": [
       "<div>\n",
       "<style scoped>\n",
       "    .dataframe tbody tr th:only-of-type {\n",
       "        vertical-align: middle;\n",
       "    }\n",
       "\n",
       "    .dataframe tbody tr th {\n",
       "        vertical-align: top;\n",
       "    }\n",
       "\n",
       "    .dataframe thead th {\n",
       "        text-align: right;\n",
       "    }\n",
       "</style>\n",
       "<table border=\"1\" class=\"dataframe\">\n",
       "  <thead>\n",
       "    <tr style=\"text-align: right;\">\n",
       "      <th></th>\n",
       "      <th>customer_id</th>\n",
       "    </tr>\n",
       "    <tr>\n",
       "      <th>mailer_type</th>\n",
       "      <th></th>\n",
       "    </tr>\n",
       "  </thead>\n",
       "  <tbody>\n",
       "    <tr>\n",
       "      <th>Mailer1</th>\n",
       "      <td>375</td>\n",
       "    </tr>\n",
       "    <tr>\n",
       "      <th>Mailer2</th>\n",
       "      <td>336</td>\n",
       "    </tr>\n",
       "  </tbody>\n",
       "</table>\n",
       "</div>"
      ],
      "text/plain": [
       "             customer_id\n",
       "mailer_type             \n",
       "Mailer1              375\n",
       "Mailer2              336"
      ]
     },
     "execution_count": 10,
     "metadata": {},
     "output_type": "execute_result"
    }
   ],
   "source": [
    "pd.pivot_table(campaign_data, index=['mailer_type'], values=['customer_id'], aggfunc='count')"
   ]
  },
  {
   "cell_type": "code",
   "execution_count": 11,
   "id": "5c3ad2d0",
   "metadata": {},
   "outputs": [
    {
     "data": {
      "text/html": [
       "<div>\n",
       "<style scoped>\n",
       "    .dataframe tbody tr th:only-of-type {\n",
       "        vertical-align: middle;\n",
       "    }\n",
       "\n",
       "    .dataframe tbody tr th {\n",
       "        vertical-align: top;\n",
       "    }\n",
       "\n",
       "    .dataframe thead th {\n",
       "        text-align: right;\n",
       "    }\n",
       "</style>\n",
       "<table border=\"1\" class=\"dataframe\">\n",
       "  <thead>\n",
       "    <tr style=\"text-align: right;\">\n",
       "      <th></th>\n",
       "      <th>signup_flag</th>\n",
       "    </tr>\n",
       "    <tr>\n",
       "      <th>mailer_type</th>\n",
       "      <th></th>\n",
       "    </tr>\n",
       "  </thead>\n",
       "  <tbody>\n",
       "    <tr>\n",
       "      <th>Mailer1</th>\n",
       "      <td>0.328000</td>\n",
       "    </tr>\n",
       "    <tr>\n",
       "      <th>Mailer2</th>\n",
       "      <td>0.377976</td>\n",
       "    </tr>\n",
       "  </tbody>\n",
       "</table>\n",
       "</div>"
      ],
      "text/plain": [
       "             signup_flag\n",
       "mailer_type             \n",
       "Mailer1         0.328000\n",
       "Mailer2         0.377976"
      ]
     },
     "execution_count": 11,
     "metadata": {},
     "output_type": "execute_result"
    }
   ],
   "source": [
    "pd.pivot_table(campaign_data, index = ['mailer_type'], values = ['signup_flag'])"
   ]
  },
  {
   "cell_type": "markdown",
   "id": "f3afbca7",
   "metadata": {},
   "source": [
    "**Mailer 2 appears to have a higher sign up flag of 37.8% - is that significantly different from Mailer 1 at 32.8% or is it random chance?**"
   ]
  },
  {
   "cell_type": "markdown",
   "id": "0169ad81",
   "metadata": {},
   "source": [
    "### Establish null, alternate hypothesis and acceptance criteria <a name=\"hypothesis-acceptance\"></a>"
   ]
  },
  {
   "cell_type": "code",
   "execution_count": 12,
   "id": "6f46dff9",
   "metadata": {},
   "outputs": [],
   "source": [
    "null_hypothesis = \"There is no relationship between mailer type and signup rate. They are independent\"\n",
    "alternate_hypothesis = \"There is a relationship between mailer type and signup rate. They are not independent\"\n",
    "acceptance_criteria = 0.05"
   ]
  },
  {
   "cell_type": "markdown",
   "id": "405b04ac",
   "metadata": {},
   "source": [
    "### Calculate observed frequencies and expected frequencies. \n",
    "\n",
    "Note that observed frequencies are the true values we've seen, that is, the actual rates per group in the data itself. The expected frequencies are what we would expect to see based on all of the data combined.\n",
    "\n",
    "Expected frequency = (row sum x column sum) / table sum\n",
    "\n",
    "The code below summarises the dataset to a 2x2 matrix for *signup_flag by mailer_type"
   ]
  },
  {
   "cell_type": "code",
   "execution_count": 14,
   "id": "b6a4009e",
   "metadata": {},
   "outputs": [
    {
     "data": {
      "text/plain": [
       "array([[252, 123],\n",
       "       [209, 127]], dtype=int64)"
      ]
     },
     "execution_count": 14,
     "metadata": {},
     "output_type": "execute_result"
    }
   ],
   "source": [
    "observed_values = pd.crosstab(campaign_data.mailer_type, campaign_data.signup_flag).values\n",
    "observed_values"
   ]
  },
  {
   "cell_type": "code",
   "execution_count": 24,
   "id": "6ab5c61a",
   "metadata": {},
   "outputs": [
    {
     "data": {
      "text/plain": [
       "Chi2ContingencyResult(statistic=1.9414468614812481, pvalue=0.16351152223398197, dof=1, expected_freq=array([[243.14345992, 131.85654008],\n",
       "       [217.85654008, 118.14345992]]))"
      ]
     },
     "execution_count": 24,
     "metadata": {},
     "output_type": "execute_result"
    }
   ],
   "source": [
    "chi2_contingency(observed_values, correction=False)"
   ]
  },
  {
   "cell_type": "code",
   "execution_count": 41,
   "id": "f814cdb1",
   "metadata": {},
   "outputs": [],
   "source": [
    "chi2_stats, p_value, dof, exp_val = chi2_contingency(observed_values, correction=False)"
   ]
  },
  {
   "cell_type": "code",
   "execution_count": 46,
   "id": "1c65b58c",
   "metadata": {},
   "outputs": [
    {
     "name": "stdout",
     "output_type": "stream",
     "text": [
      "statistic 1.9414468614812481\n",
      "pvalue 0.16351152223398197\n",
      "dof 1\n",
      "expected_freq [243.14345992, 131.85654008]\n",
      "3.841458820694124\n"
     ]
    }
   ],
   "source": [
    "x = {\"statistic\":1.9414468614812481, \"pvalue\":0.16351152223398197, \n",
    "     \"dof\":1, \"expected_freq\":[243.14345992, 131.85654008]}\n",
    "\n",
    "for key, val in x.items():\n",
    "    print(key, val)\n",
    "    \n",
    "critical_value = chi2.ppf(1-acceptance_criteria, dof)\n",
    "print(critical_value)"
   ]
  },
  {
   "cell_type": "code",
   "execution_count": 47,
   "id": "437a3a47",
   "metadata": {},
   "outputs": [
    {
     "name": "stdout",
     "output_type": "stream",
     "text": [
      "As our p-value of 0.16351152223398197 is higher than our acceptance_criteria of 0.05 - we retain the null hypothesis, and conclude that: There is no relationship between mailer type and signup rate. They are independent\n"
     ]
    }
   ],
   "source": [
    "# print results based on p-value\n",
    "if p_value <= acceptance_criteria:\n",
    "    print(f\"As our p-value of {p_value} is lower than our acceptance_criteria of {acceptance_criteria} - we reject the null hypothesis, and conclude that: {alternate_hypothesis}\")\n",
    "else:\n",
    "    print(f\"As our p-value of {p_value} is higher than our acceptance_criteria of {acceptance_criteria} - we retain the null hypothesis, and conclude that: {null_hypothesis}\")\n"
   ]
  },
  {
   "cell_type": "code",
   "execution_count": 49,
   "id": "adb7c77d",
   "metadata": {},
   "outputs": [
    {
     "name": "stdout",
     "output_type": "stream",
     "text": [
      "As our chi-square statistic of 1.9414468614812481 is lower than our critical value of 3.841458820694124 - we retain the null hypothesis, and conclude that: There is no relationship between mailer type and signup rate. They are independent\n"
     ]
    }
   ],
   "source": [
    "# print results based on chi2-value\n",
    "if chi2_stats >= critical_value:\n",
    "    print(f\"As our chi-square statistic of {chi2_stats} is higher than our critical value of {critical_value} - we reject the null hypothesis, and conclude that: {alternate_hypothesis}\")\n",
    "else:\n",
    "    print(f\"As our chi-square statistic of {chi2_stats} is lower than our critical value of {critical_value} - we retain the null hypothesis, and conclude that: {null_hypothesis}\")\n"
   ]
  },
  {
   "cell_type": "markdown",
   "id": "422237d1",
   "metadata": {},
   "source": [
    "### Conclusion <a name=\"discussion\"></a>\n",
    "\n",
    "While we saw that the higher cost Mailer 2 had a higher signup rate (37.8%) than the lower cost Mailer 1 (32.8%) it appears that this difference is not significant, at least at our Acceptance Criteria of 0.05.\n",
    "\n",
    "Without running this Hypothesis Test, the client may have concluded that they should always look to go with higher cost mailers - and from what we've seen in this test, that may not be a great decision. It would result in them spending more, but not necessarily gaining any extra revenue as a result"
   ]
  },
  {
   "cell_type": "code",
   "execution_count": null,
   "id": "190e0d9b",
   "metadata": {},
   "outputs": [],
   "source": []
  }
 ],
 "metadata": {
  "kernelspec": {
   "display_name": "Python 3 (ipykernel)",
   "language": "python",
   "name": "python3"
  },
  "language_info": {
   "codemirror_mode": {
    "name": "ipython",
    "version": 3
   },
   "file_extension": ".py",
   "mimetype": "text/x-python",
   "name": "python",
   "nbconvert_exporter": "python",
   "pygments_lexer": "ipython3",
   "version": "3.9.19"
  }
 },
 "nbformat": 4,
 "nbformat_minor": 5
}
